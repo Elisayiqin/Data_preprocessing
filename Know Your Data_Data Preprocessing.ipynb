{
 "cells": [
  {
   "cell_type": "markdown",
   "metadata": {},
   "source": [
    "# CSCI 4455/5455 – Spring 2020 \n",
    "### Assignment 1 - Know Your Data/Data Preprocessing"
   ]
  },
  {
   "cell_type": "markdown",
   "metadata": {},
   "source": [
    "In 2014, a new disease caused by \"T-Virus\" had spread over the world. A medical research center developed two different medicines, Anti-A and Anti-B. However, the researchers didn't know how to treat patients with the two medicines, and so decided to do some experiments by injecting different combinations of the two medicines to 40 infected patients for a month. After one month, the researchers measured the amount of t-virus in the patients' blood. Assumes all patients had 100% T-Virus before getting the treatments. "
   ]
  },
  {
   "cell_type": "code",
   "execution_count": 152,
   "metadata": {},
   "outputs": [],
   "source": [
    "import pandas as pd\n",
    "import math\n",
    "import warnings # for hiding warnings\n",
    "warnings.filterwarnings('ignore')"
   ]
  },
  {
   "cell_type": "code",
   "execution_count": 153,
   "metadata": {},
   "outputs": [],
   "source": [
    "base_path = r'' # path to the folder that contains the dataset.csv. leave it blank in your submission\n",
    "dataset_name = 'dataset.csv'\n",
    "dataset_path = rf'{base_path}/{dataset_name}'"
   ]
  },
  {
   "cell_type": "markdown",
   "metadata": {},
   "source": [
    "Load the dataset and check the first 10 rows"
   ]
  },
  {
   "cell_type": "code",
   "execution_count": 154,
   "metadata": {},
   "outputs": [
    {
     "data": {
      "text/html": [
       "<div>\n",
       "<style scoped>\n",
       "    .dataframe tbody tr th:only-of-type {\n",
       "        vertical-align: middle;\n",
       "    }\n",
       "\n",
       "    .dataframe tbody tr th {\n",
       "        vertical-align: top;\n",
       "    }\n",
       "\n",
       "    .dataframe thead th {\n",
       "        text-align: right;\n",
       "    }\n",
       "</style>\n",
       "<table border=\"1\" class=\"dataframe\">\n",
       "  <thead>\n",
       "    <tr style=\"text-align: right;\">\n",
       "      <th></th>\n",
       "      <th>anti_a</th>\n",
       "      <th>anti_b</th>\n",
       "      <th>t_virus</th>\n",
       "    </tr>\n",
       "  </thead>\n",
       "  <tbody>\n",
       "    <tr>\n",
       "      <th>0</th>\n",
       "      <td>5.76</td>\n",
       "      <td>94.4</td>\n",
       "      <td>9.3</td>\n",
       "    </tr>\n",
       "    <tr>\n",
       "      <th>1</th>\n",
       "      <td>7.90</td>\n",
       "      <td>15.5</td>\n",
       "      <td>11.5</td>\n",
       "    </tr>\n",
       "    <tr>\n",
       "      <th>2</th>\n",
       "      <td>4.41</td>\n",
       "      <td>4.8</td>\n",
       "      <td>15.2</td>\n",
       "    </tr>\n",
       "    <tr>\n",
       "      <th>3</th>\n",
       "      <td>8.70</td>\n",
       "      <td>48.3</td>\n",
       "      <td>15.8</td>\n",
       "    </tr>\n",
       "    <tr>\n",
       "      <th>4</th>\n",
       "      <td>2.84</td>\n",
       "      <td>78.9</td>\n",
       "      <td>11.5</td>\n",
       "    </tr>\n",
       "    <tr>\n",
       "      <th>5</th>\n",
       "      <td>2.84</td>\n",
       "      <td>33.6</td>\n",
       "      <td>77.9</td>\n",
       "    </tr>\n",
       "    <tr>\n",
       "      <th>6</th>\n",
       "      <td>7.31</td>\n",
       "      <td>58.4</td>\n",
       "      <td>74.9</td>\n",
       "    </tr>\n",
       "    <tr>\n",
       "      <th>7</th>\n",
       "      <td>4.24</td>\n",
       "      <td>53.3</td>\n",
       "      <td>60.0</td>\n",
       "    </tr>\n",
       "    <tr>\n",
       "      <th>8</th>\n",
       "      <td>9.83</td>\n",
       "      <td>55.3</td>\n",
       "      <td>8.4</td>\n",
       "    </tr>\n",
       "    <tr>\n",
       "      <th>9</th>\n",
       "      <td>7.59</td>\n",
       "      <td>76.7</td>\n",
       "      <td>73.4</td>\n",
       "    </tr>\n",
       "  </tbody>\n",
       "</table>\n",
       "</div>"
      ],
      "text/plain": [
       "   anti_a  anti_b  t_virus\n",
       "0    5.76    94.4      9.3\n",
       "1    7.90    15.5     11.5\n",
       "2    4.41     4.8     15.2\n",
       "3    8.70    48.3     15.8\n",
       "4    2.84    78.9     11.5\n",
       "5    2.84    33.6     77.9\n",
       "6    7.31    58.4     74.9\n",
       "7    4.24    53.3     60.0\n",
       "8    9.83    55.3      8.4\n",
       "9    7.59    76.7     73.4"
      ]
     },
     "execution_count": 154,
     "metadata": {},
     "output_type": "execute_result"
    }
   ],
   "source": [
    "# DO NOT EDIT THIS CELL\n",
    "dataset = pd.read_csv(dataset_path)\n",
    "dataset.head(10)"
   ]
  },
  {
   "cell_type": "markdown",
   "metadata": {},
   "source": [
    "get the summary statistics"
   ]
  },
  {
   "cell_type": "code",
   "execution_count": 155,
   "metadata": {},
   "outputs": [
    {
     "data": {
      "text/html": [
       "<div>\n",
       "<style scoped>\n",
       "    .dataframe tbody tr th:only-of-type {\n",
       "        vertical-align: middle;\n",
       "    }\n",
       "\n",
       "    .dataframe tbody tr th {\n",
       "        vertical-align: top;\n",
       "    }\n",
       "\n",
       "    .dataframe thead th {\n",
       "        text-align: right;\n",
       "    }\n",
       "</style>\n",
       "<table border=\"1\" class=\"dataframe\">\n",
       "  <thead>\n",
       "    <tr style=\"text-align: right;\">\n",
       "      <th></th>\n",
       "      <th>anti_a</th>\n",
       "      <th>anti_b</th>\n",
       "      <th>t_virus</th>\n",
       "    </tr>\n",
       "  </thead>\n",
       "  <tbody>\n",
       "    <tr>\n",
       "      <th>count</th>\n",
       "      <td>40.000000</td>\n",
       "      <td>40.000000</td>\n",
       "      <td>40.000000</td>\n",
       "    </tr>\n",
       "    <tr>\n",
       "      <th>mean</th>\n",
       "      <td>5.116250</td>\n",
       "      <td>49.577500</td>\n",
       "      <td>37.465000</td>\n",
       "    </tr>\n",
       "    <tr>\n",
       "      <th>std</th>\n",
       "      <td>3.157834</td>\n",
       "      <td>31.436003</td>\n",
       "      <td>30.809885</td>\n",
       "    </tr>\n",
       "    <tr>\n",
       "      <th>min</th>\n",
       "      <td>0.170000</td>\n",
       "      <td>1.600000</td>\n",
       "      <td>6.000000</td>\n",
       "    </tr>\n",
       "    <tr>\n",
       "      <th>25%</th>\n",
       "      <td>2.582500</td>\n",
       "      <td>19.650000</td>\n",
       "      <td>11.275000</td>\n",
       "    </tr>\n",
       "    <tr>\n",
       "      <th>50%</th>\n",
       "      <td>5.415000</td>\n",
       "      <td>50.450000</td>\n",
       "      <td>16.150000</td>\n",
       "    </tr>\n",
       "    <tr>\n",
       "      <th>75%</th>\n",
       "      <td>7.522500</td>\n",
       "      <td>80.025000</td>\n",
       "      <td>69.275000</td>\n",
       "    </tr>\n",
       "    <tr>\n",
       "      <th>max</th>\n",
       "      <td>9.940000</td>\n",
       "      <td>98.800000</td>\n",
       "      <td>90.700000</td>\n",
       "    </tr>\n",
       "  </tbody>\n",
       "</table>\n",
       "</div>"
      ],
      "text/plain": [
       "          anti_a     anti_b    t_virus\n",
       "count  40.000000  40.000000  40.000000\n",
       "mean    5.116250  49.577500  37.465000\n",
       "std     3.157834  31.436003  30.809885\n",
       "min     0.170000   1.600000   6.000000\n",
       "25%     2.582500  19.650000  11.275000\n",
       "50%     5.415000  50.450000  16.150000\n",
       "75%     7.522500  80.025000  69.275000\n",
       "max     9.940000  98.800000  90.700000"
      ]
     },
     "execution_count": 155,
     "metadata": {},
     "output_type": "execute_result"
    }
   ],
   "source": [
    "# DO NOT EDIT THIS CELL\n",
    "dataset.describe()"
   ]
  },
  {
   "cell_type": "markdown",
   "metadata": {},
   "source": [
    "and check the number of records"
   ]
  },
  {
   "cell_type": "code",
   "execution_count": 156,
   "metadata": {},
   "outputs": [
    {
     "data": {
      "text/plain": [
       "40"
      ]
     },
     "execution_count": 156,
     "metadata": {},
     "output_type": "execute_result"
    }
   ],
   "source": [
    "# DO NOT EDIT THIS CELL\n",
    "len(dataset)"
   ]
  },
  {
   "cell_type": "markdown",
   "metadata": {},
   "source": [
    "#### Question 1: Equal Width Partitioning (15 Points)\n",
    "complete the below function\n",
    "\n",
    "parameters:\n",
    "- values (not sorted) as a list\n",
    "- the number of bins as an integer\n",
    "\n",
    "returns a tuple containing:\n",
    "- bin width => as a float\n",
    "- bounds for the bins => as a nested list. Each item (bounds[i]) contains the lower bound and the upper bound for the bins[i]\n",
    "- list of bins => as a nested list. bins[i] is a list of sorted values for the i-th bin\n",
    "\n"
   ]
  },
  {
   "cell_type": "code",
   "execution_count": 157,
   "metadata": {},
   "outputs": [],
   "source": [
    "def equal_width_partitioning(values, bin_count):\n",
    "    values.sort()\n",
    "    bin_count = int(bin_count)\n",
    "    bins = []\n",
    "    bounds = []\n",
    "    value_range = max(values) - min(values)\n",
    "    width = value_range / bin_count\n",
    "    min_values = min(values)\n",
    "    \n",
    "    for i in range(0,bin_count):\n",
    "        temp = []\n",
    "        for r in values:\n",
    "            if r >= min_values+(i*width) and r <= min_values+((i+1)*width):\n",
    "                temp += [r]\n",
    "        bounds.append([min_values+(i*width),min_values+((i+1)*width)])  \n",
    "        bins.append(temp)\n",
    "    return (width, bounds, bins)"
   ]
  },
  {
   "cell_type": "code",
   "execution_count": 158,
   "metadata": {},
   "outputs": [
    {
     "name": "stdout",
     "output_type": "stream",
     "text": [
      "partition width: 16.94\n",
      "[6.0, 22.94] => 6.0, 6.7, 7.5, 7.6, 8.4, 9.3, 9.4, 9.6, 10.6, 11.2, 11.3, 11.5, 11.5, 11.9, 13.0, 13.8, 14.1, 14.9, 15.2, 15.8, 16.5, 17.7, 21.4\n",
      "(22.94, 39.88] => \n",
      "(39.88, 56.82000000000001] => 55.5\n",
      "(56.82000000000001, 73.76] => 60.0, 61.4, 62.1, 64.9, 64.9, 69.0, 70.1, 73.4\n",
      "(73.76, 90.7] => 74.9, 76.8, 77.0, 77.9, 80.1, 81.2, 83.8, 90.7\n"
     ]
    }
   ],
   "source": [
    "# DO NOT EDIT THIS CELL\n",
    "t_virus = list(dataset['t_virus']) # get the t-virus values\n",
    "bin_count = 5 # set the bin count to 5\n",
    "(width, bounds, bins) = equal_width_partitioning(t_virus, bin_count) # call the binning function\n",
    "\n",
    "print(f\"partition width: {width}\") #print the results\n",
    "for i in range(len(bins)):\n",
    "    s = \"[\" if i==0 else \"(\"\n",
    "    bin_values = ', '.join(str(x) for x in bins[i])\n",
    "    print(f\"{s}{bounds[i][0]}, {bounds[i][1]}] => {bin_values}\")     "
   ]
  },
  {
   "cell_type": "markdown",
   "metadata": {},
   "source": [
    "#### Question 2: Equal-depth (equal-frequency) Partitioning (15 Points)\n",
    "complete the below function\n",
    "\n",
    "parameters:\n",
    "- values (not sorted) => as a list\n",
    "- the number of values in each bin (not the number of bins). The last bin can be unfull if there are not enough elements.\n",
    "\n",
    "returns a tuple containing:\n",
    "- bounds for the bins => as a nested list. Each item (bounds[i]) contains the lower bound and the upper bound for the bins[i]\n",
    "- list of bins => as a nested list. bins[i] is a list of sorted values for the i-th bin"
   ]
  },
  {
   "cell_type": "code",
   "execution_count": 159,
   "metadata": {},
   "outputs": [],
   "source": [
    "def equal_depth_partitioning(values, bin_frequency):\n",
    "    bins = []\n",
    "    bounds = []\n",
    "    values.sort()\n",
    "    bin_frequency = int(bin_frequency)\n",
    "    bin_count = -(-len(values)//bin_frequency) # round the result up\n",
    "    remainder = len(values) % bin_frequency\n",
    "    \n",
    "    for i in range(0,bin_count-1):\n",
    "        bins.append(values[(i*bin_frequency):(i*bin_frequency+bin_frequency)])\n",
    "        bounds.append([values[i*bin_frequency],values[i*bin_frequency+bin_frequency-1]])\n",
    "    \n",
    "#     for the last bin, in case of the length of values is not divisible by bin_frequency\n",
    "    if remainder != 0:\n",
    "        bins.append(values[((bin_count-1)*bin_frequency) : (bin_count-1)*bin_frequency + remainder])\n",
    "        bounds.append([values[(bin_count-1)*bin_frequency],values[-1]])\n",
    "    else:\n",
    "        bins.append(values[((bin_count-1)*bin_frequency) : (bin_count)*bin_frequency])\n",
    "        bounds.append([values[(bin_count-1)*bin_frequency],values[-1]])\n",
    "    \n",
    "    return (bounds, bins)"
   ]
  },
  {
   "cell_type": "code",
   "execution_count": 160,
   "metadata": {},
   "outputs": [
    {
     "name": "stdout",
     "output_type": "stream",
     "text": [
      "[6.0, 8.4] => 6.0, 6.7, 7.5, 7.6, 8.4\n",
      "[9.3, 11.2] => 9.3, 9.4, 9.6, 10.6, 11.2\n",
      "[11.3, 13.0] => 11.3, 11.5, 11.5, 11.9, 13.0\n",
      "[13.8, 15.8] => 13.8, 14.1, 14.9, 15.2, 15.8\n",
      "[16.5, 60.0] => 16.5, 17.7, 21.4, 55.5, 60.0\n",
      "[61.4, 69.0] => 61.4, 62.1, 64.9, 64.9, 69.0\n",
      "[70.1, 77.0] => 70.1, 73.4, 74.9, 76.8, 77.0\n",
      "[77.9, 90.7] => 77.9, 80.1, 81.2, 83.8, 90.7\n"
     ]
    }
   ],
   "source": [
    "# DO NOT EDIT THIS CELL\n",
    "t_virus = list(dataset['t_virus'])\n",
    "bin_frequency = 5\n",
    "(bounds, bins) = equal_depth_partitioning(t_virus, bin_frequency)\n",
    "\n",
    "for i in range(len(bins)):\n",
    "    bin_values = ', '.join(str(x) for x in bins[i])\n",
    "    print(f\"[{bounds[i][0]}, {bounds[i][1]}] => {bin_values}\")"
   ]
  },
  {
   "cell_type": "markdown",
   "metadata": {},
   "source": [
    "#### Question 3: Grouping (15 Points)\n",
    "Now, divide the 40 patients into two groups such that one group has much lower T-Virus than the other. To find the cut-off value, we need to find the largest gap between the two consecutive values. Complete the below function that returns the smallest value that should be assigned to the second group (you can use the results from the partitioning analysis above to verify your answer). \n",
    "\n",
    "inputs:\n",
    "- values (not sorted) as a list\n",
    "\n",
    "returns:\n",
    "- the cut-off value"
   ]
  },
  {
   "cell_type": "code",
   "execution_count": 161,
   "metadata": {},
   "outputs": [],
   "source": [
    "def find_first_value(values):\n",
    "    values.sort()\n",
    "    gap = []\n",
    "    for i in range(0,len(values)-1):\n",
    "        gap.append(abs(values[i]-values[i+1]))\n",
    "    gap_maxindex = gap.index(max(gap))\n",
    "    cutoff = values[gap_maxindex+1]\n",
    "    return cutoff"
   ]
  },
  {
   "cell_type": "code",
   "execution_count": 162,
   "metadata": {},
   "outputs": [
    {
     "name": "stdout",
     "output_type": "stream",
     "text": [
      "first value of the second group should be: 55.5\n"
     ]
    }
   ],
   "source": [
    "# DO NOT EDIT THIS CELL\n",
    "t_virus = list(dataset['t_virus'])\n",
    "cut_off = find_first_value(t_virus)\n",
    "print(f\"first value of the second group should be: {cut_off}\")\n",
    "group1 = dataset[dataset['t_virus'] < cut_off]\n",
    "group2 = dataset[dataset['t_virus'] >= cut_off]"
   ]
  },
  {
   "cell_type": "markdown",
   "metadata": {},
   "source": [
    "#### Question 4: Measure of Central Tendency  (10 Points):\n",
    "complete the below functions to compute the mean and median of for a given unsorted list\n",
    "\n",
    "input:\n",
    "- values (not sorted) as a list\n",
    "\n",
    "returns:\n",
    "- the mean of the values as a float"
   ]
  },
  {
   "cell_type": "code",
   "execution_count": 163,
   "metadata": {},
   "outputs": [],
   "source": [
    "def get_mean(values):\n",
    "    mean_values = sum(values) / len(values)\n",
    "        \n",
    "    return mean_values"
   ]
  },
  {
   "cell_type": "markdown",
   "metadata": {},
   "source": [
    "input:\n",
    "- values (not sorted) as a list\n",
    "\n",
    "returns:\n",
    "- the median of the values as a floa"
   ]
  },
  {
   "cell_type": "code",
   "execution_count": 164,
   "metadata": {},
   "outputs": [],
   "source": [
    "def get_median(values):\n",
    "    values.sort()\n",
    "    if len(values) % 2 ==0:\n",
    "        m = int(len(values)/2)\n",
    "        median_values = (values[m-1]+values[m])/2\n",
    "    else:\n",
    "        m = int(len(values)//2)\n",
    "        median_values = values[m]\n",
    "\n",
    "    return median_values"
   ]
  },
  {
   "cell_type": "code",
   "execution_count": 165,
   "metadata": {},
   "outputs": [
    {
     "name": "stdout",
     "output_type": "stream",
     "text": [
      "group 1\t\tmean: 11.95217391304348 \tmedian: 11.5\n",
      "group 2\t\tmean: 71.98235294117647 \tmedian: 73.4\n"
     ]
    }
   ],
   "source": [
    "# DO NOT EDIT THIS CELL\n",
    "print(f\"group 1\\t\\tmean: {get_mean(list(group1['t_virus']))} \\tmedian: {get_median(list(group1['t_virus']))}\")\n",
    "print(f\"group 2\\t\\tmean: {get_mean(list(group2['t_virus']))} \\tmedian: {get_median(list(group2['t_virus']))}\")"
   ]
  },
  {
   "cell_type": "markdown",
   "metadata": {},
   "source": [
    "#### Question 5: Data Normalization (15 Ppoints) \n",
    "Complete the following function that normalizes the values using the min-max normalization method:<br/>\n",
    "input:\n",
    "- values (not sorted) as a list\n",
    "\n",
    "returns:\n",
    "- min-max normalized values"
   ]
  },
  {
   "cell_type": "code",
   "execution_count": 166,
   "metadata": {},
   "outputs": [],
   "source": [
    "def min_max(values):\n",
    "    normalized_values = []\n",
    "    for i in range(0,len(values)):\n",
    "        normalized_values.append((values[i]-min(values))/(max(values)-min(values)))\n",
    "    return normalized_values"
   ]
  },
  {
   "cell_type": "code",
   "execution_count": 167,
   "metadata": {},
   "outputs": [],
   "source": [
    "# DO NOT EDIT THIS CELL\n",
    "group1['anti_a'] = min_max(list(group1['anti_a']))\n",
    "group1['anti_b'] = min_max(list(group1['anti_b']))\n",
    "\n",
    "group2['anti_a'] = min_max(list(group2['anti_a']))\n",
    "group2['anti_b'] = min_max(list(group2['anti_b']))"
   ]
  },
  {
   "cell_type": "code",
   "execution_count": 168,
   "metadata": {},
   "outputs": [
    {
     "data": {
      "text/html": [
       "<div>\n",
       "<style scoped>\n",
       "    .dataframe tbody tr th:only-of-type {\n",
       "        vertical-align: middle;\n",
       "    }\n",
       "\n",
       "    .dataframe tbody tr th {\n",
       "        vertical-align: top;\n",
       "    }\n",
       "\n",
       "    .dataframe thead th {\n",
       "        text-align: right;\n",
       "    }\n",
       "</style>\n",
       "<table border=\"1\" class=\"dataframe\">\n",
       "  <thead>\n",
       "    <tr style=\"text-align: right;\">\n",
       "      <th></th>\n",
       "      <th>anti_a</th>\n",
       "      <th>anti_b</th>\n",
       "      <th>t_virus</th>\n",
       "    </tr>\n",
       "  </thead>\n",
       "  <tbody>\n",
       "    <tr>\n",
       "      <th>0</th>\n",
       "      <td>0.572160</td>\n",
       "      <td>0.961658</td>\n",
       "      <td>9.3</td>\n",
       "    </tr>\n",
       "    <tr>\n",
       "      <th>1</th>\n",
       "      <td>0.791198</td>\n",
       "      <td>0.144041</td>\n",
       "      <td>11.5</td>\n",
       "    </tr>\n",
       "    <tr>\n",
       "      <th>2</th>\n",
       "      <td>0.433982</td>\n",
       "      <td>0.033161</td>\n",
       "      <td>15.2</td>\n",
       "    </tr>\n",
       "    <tr>\n",
       "      <th>3</th>\n",
       "      <td>0.873081</td>\n",
       "      <td>0.483938</td>\n",
       "      <td>15.8</td>\n",
       "    </tr>\n",
       "    <tr>\n",
       "      <th>4</th>\n",
       "      <td>0.273286</td>\n",
       "      <td>0.801036</td>\n",
       "      <td>11.5</td>\n",
       "    </tr>\n",
       "    <tr>\n",
       "      <th>8</th>\n",
       "      <td>0.988741</td>\n",
       "      <td>0.556477</td>\n",
       "      <td>8.4</td>\n",
       "    </tr>\n",
       "    <tr>\n",
       "      <th>11</th>\n",
       "      <td>0.720573</td>\n",
       "      <td>0.196891</td>\n",
       "      <td>14.9</td>\n",
       "    </tr>\n",
       "    <tr>\n",
       "      <th>12</th>\n",
       "      <td>0.262027</td>\n",
       "      <td>0.679793</td>\n",
       "      <td>9.4</td>\n",
       "    </tr>\n",
       "    <tr>\n",
       "      <th>13</th>\n",
       "      <td>0.294780</td>\n",
       "      <td>0.877720</td>\n",
       "      <td>16.5</td>\n",
       "    </tr>\n",
       "    <tr>\n",
       "      <th>15</th>\n",
       "      <td>0.004094</td>\n",
       "      <td>0.393782</td>\n",
       "      <td>11.2</td>\n",
       "    </tr>\n",
       "    <tr>\n",
       "      <th>19</th>\n",
       "      <td>0.331627</td>\n",
       "      <td>0.000000</td>\n",
       "      <td>7.6</td>\n",
       "    </tr>\n",
       "    <tr>\n",
       "      <th>22</th>\n",
       "      <td>0.984647</td>\n",
       "      <td>0.157513</td>\n",
       "      <td>6.7</td>\n",
       "    </tr>\n",
       "    <tr>\n",
       "      <th>23</th>\n",
       "      <td>0.750256</td>\n",
       "      <td>0.218653</td>\n",
       "      <td>10.6</td>\n",
       "    </tr>\n",
       "    <tr>\n",
       "      <th>25</th>\n",
       "      <td>0.187308</td>\n",
       "      <td>0.950259</td>\n",
       "      <td>11.9</td>\n",
       "    </tr>\n",
       "    <tr>\n",
       "      <th>26</th>\n",
       "      <td>0.501535</td>\n",
       "      <td>0.894301</td>\n",
       "      <td>13.0</td>\n",
       "    </tr>\n",
       "    <tr>\n",
       "      <th>27</th>\n",
       "      <td>1.000000</td>\n",
       "      <td>0.153368</td>\n",
       "      <td>14.1</td>\n",
       "    </tr>\n",
       "    <tr>\n",
       "      <th>28</th>\n",
       "      <td>0.050154</td>\n",
       "      <td>0.621762</td>\n",
       "      <td>11.3</td>\n",
       "    </tr>\n",
       "    <tr>\n",
       "      <th>30</th>\n",
       "      <td>0.933470</td>\n",
       "      <td>0.124352</td>\n",
       "      <td>7.5</td>\n",
       "    </tr>\n",
       "    <tr>\n",
       "      <th>31</th>\n",
       "      <td>0.938588</td>\n",
       "      <td>0.528497</td>\n",
       "      <td>17.7</td>\n",
       "    </tr>\n",
       "    <tr>\n",
       "      <th>32</th>\n",
       "      <td>0.201638</td>\n",
       "      <td>0.864249</td>\n",
       "      <td>13.8</td>\n",
       "    </tr>\n",
       "    <tr>\n",
       "      <th>37</th>\n",
       "      <td>0.735926</td>\n",
       "      <td>0.118135</td>\n",
       "      <td>21.4</td>\n",
       "    </tr>\n",
       "    <tr>\n",
       "      <th>38</th>\n",
       "      <td>0.266121</td>\n",
       "      <td>1.000000</td>\n",
       "      <td>6.0</td>\n",
       "    </tr>\n",
       "    <tr>\n",
       "      <th>39</th>\n",
       "      <td>0.000000</td>\n",
       "      <td>0.417617</td>\n",
       "      <td>9.6</td>\n",
       "    </tr>\n",
       "  </tbody>\n",
       "</table>\n",
       "</div>"
      ],
      "text/plain": [
       "      anti_a    anti_b  t_virus\n",
       "0   0.572160  0.961658      9.3\n",
       "1   0.791198  0.144041     11.5\n",
       "2   0.433982  0.033161     15.2\n",
       "3   0.873081  0.483938     15.8\n",
       "4   0.273286  0.801036     11.5\n",
       "8   0.988741  0.556477      8.4\n",
       "11  0.720573  0.196891     14.9\n",
       "12  0.262027  0.679793      9.4\n",
       "13  0.294780  0.877720     16.5\n",
       "15  0.004094  0.393782     11.2\n",
       "19  0.331627  0.000000      7.6\n",
       "22  0.984647  0.157513      6.7\n",
       "23  0.750256  0.218653     10.6\n",
       "25  0.187308  0.950259     11.9\n",
       "26  0.501535  0.894301     13.0\n",
       "27  1.000000  0.153368     14.1\n",
       "28  0.050154  0.621762     11.3\n",
       "30  0.933470  0.124352      7.5\n",
       "31  0.938588  0.528497     17.7\n",
       "32  0.201638  0.864249     13.8\n",
       "37  0.735926  0.118135     21.4\n",
       "38  0.266121  1.000000      6.0\n",
       "39  0.000000  0.417617      9.6"
      ]
     },
     "execution_count": 168,
     "metadata": {},
     "output_type": "execute_result"
    }
   ],
   "source": [
    "# DO NOT CHANGE THIS CELL\n",
    "group1"
   ]
  },
  {
   "cell_type": "code",
   "execution_count": 169,
   "metadata": {},
   "outputs": [
    {
     "data": {
      "text/html": [
       "<div>\n",
       "<style scoped>\n",
       "    .dataframe tbody tr th:only-of-type {\n",
       "        vertical-align: middle;\n",
       "    }\n",
       "\n",
       "    .dataframe tbody tr th {\n",
       "        vertical-align: top;\n",
       "    }\n",
       "\n",
       "    .dataframe thead th {\n",
       "        text-align: right;\n",
       "    }\n",
       "</style>\n",
       "<table border=\"1\" class=\"dataframe\">\n",
       "  <thead>\n",
       "    <tr style=\"text-align: right;\">\n",
       "      <th></th>\n",
       "      <th>anti_a</th>\n",
       "      <th>anti_b</th>\n",
       "      <th>t_virus</th>\n",
       "    </tr>\n",
       "  </thead>\n",
       "  <tbody>\n",
       "    <tr>\n",
       "      <th>5</th>\n",
       "      <td>0.276596</td>\n",
       "      <td>0.272321</td>\n",
       "      <td>77.9</td>\n",
       "    </tr>\n",
       "    <tr>\n",
       "      <th>6</th>\n",
       "      <td>0.836045</td>\n",
       "      <td>0.549107</td>\n",
       "      <td>74.9</td>\n",
       "    </tr>\n",
       "    <tr>\n",
       "      <th>7</th>\n",
       "      <td>0.451815</td>\n",
       "      <td>0.492187</td>\n",
       "      <td>60.0</td>\n",
       "    </tr>\n",
       "    <tr>\n",
       "      <th>9</th>\n",
       "      <td>0.871089</td>\n",
       "      <td>0.753348</td>\n",
       "      <td>73.4</td>\n",
       "    </tr>\n",
       "    <tr>\n",
       "      <th>10</th>\n",
       "      <td>0.000000</td>\n",
       "      <td>0.023438</td>\n",
       "      <td>61.4</td>\n",
       "    </tr>\n",
       "    <tr>\n",
       "      <th>14</th>\n",
       "      <td>0.687109</td>\n",
       "      <td>0.292411</td>\n",
       "      <td>70.1</td>\n",
       "    </tr>\n",
       "    <tr>\n",
       "      <th>16</th>\n",
       "      <td>0.818523</td>\n",
       "      <td>0.867188</td>\n",
       "      <td>76.8</td>\n",
       "    </tr>\n",
       "    <tr>\n",
       "      <th>17</th>\n",
       "      <td>0.823529</td>\n",
       "      <td>0.879464</td>\n",
       "      <td>90.7</td>\n",
       "    </tr>\n",
       "    <tr>\n",
       "      <th>18</th>\n",
       "      <td>0.295369</td>\n",
       "      <td>0.127232</td>\n",
       "      <td>77.0</td>\n",
       "    </tr>\n",
       "    <tr>\n",
       "      <th>20</th>\n",
       "      <td>1.000000</td>\n",
       "      <td>0.777902</td>\n",
       "      <td>81.2</td>\n",
       "    </tr>\n",
       "    <tr>\n",
       "      <th>21</th>\n",
       "      <td>0.896120</td>\n",
       "      <td>0.582589</td>\n",
       "      <td>55.5</td>\n",
       "    </tr>\n",
       "    <tr>\n",
       "      <th>24</th>\n",
       "      <td>0.101377</td>\n",
       "      <td>0.264509</td>\n",
       "      <td>64.9</td>\n",
       "    </tr>\n",
       "    <tr>\n",
       "      <th>29</th>\n",
       "      <td>0.852315</td>\n",
       "      <td>1.000000</td>\n",
       "      <td>83.8</td>\n",
       "    </tr>\n",
       "    <tr>\n",
       "      <th>33</th>\n",
       "      <td>0.100125</td>\n",
       "      <td>0.189732</td>\n",
       "      <td>62.1</td>\n",
       "    </tr>\n",
       "    <tr>\n",
       "      <th>34</th>\n",
       "      <td>0.005006</td>\n",
       "      <td>0.000000</td>\n",
       "      <td>80.1</td>\n",
       "    </tr>\n",
       "    <tr>\n",
       "      <th>35</th>\n",
       "      <td>0.138924</td>\n",
       "      <td>0.039062</td>\n",
       "      <td>69.0</td>\n",
       "    </tr>\n",
       "    <tr>\n",
       "      <th>36</th>\n",
       "      <td>0.839800</td>\n",
       "      <td>0.828125</td>\n",
       "      <td>64.9</td>\n",
       "    </tr>\n",
       "  </tbody>\n",
       "</table>\n",
       "</div>"
      ],
      "text/plain": [
       "      anti_a    anti_b  t_virus\n",
       "5   0.276596  0.272321     77.9\n",
       "6   0.836045  0.549107     74.9\n",
       "7   0.451815  0.492187     60.0\n",
       "9   0.871089  0.753348     73.4\n",
       "10  0.000000  0.023438     61.4\n",
       "14  0.687109  0.292411     70.1\n",
       "16  0.818523  0.867188     76.8\n",
       "17  0.823529  0.879464     90.7\n",
       "18  0.295369  0.127232     77.0\n",
       "20  1.000000  0.777902     81.2\n",
       "21  0.896120  0.582589     55.5\n",
       "24  0.101377  0.264509     64.9\n",
       "29  0.852315  1.000000     83.8\n",
       "33  0.100125  0.189732     62.1\n",
       "34  0.005006  0.000000     80.1\n",
       "35  0.138924  0.039062     69.0\n",
       "36  0.839800  0.828125     64.9"
      ]
     },
     "execution_count": 169,
     "metadata": {},
     "output_type": "execute_result"
    }
   ],
   "source": [
    "# DO NOT CHANGE THIS CELL\n",
    "group2"
   ]
  },
  {
   "cell_type": "markdown",
   "metadata": {},
   "source": [
    "#### Question 6 (15 Points)\n",
    "Complete the below function that computes the Pearson correlation coefficient between the normalized Anti-A and normalized Anti-B for each group\n",
    "input: \n",
    "- X: values for anti-a\n",
    "- Y: values for anti-b\n",
    "\n",
    "returns:\n",
    "- the Pearson correlation => as a flot"
   ]
  },
  {
   "cell_type": "code",
   "execution_count": 170,
   "metadata": {},
   "outputs": [],
   "source": [
    "def get_pearson(X, Y):\n",
    "    mean1 = get_mean(X)\n",
    "    mean2 = get_mean(Y)\n",
    "    var1 = sum([((float(i) - mean1) ** 2) for i in X]) / (len(X)-1)\n",
    "    var2 = sum([((float(i) - mean2) ** 2) for i in Y]) / (len(Y)-1)\n",
    "    std1 = var1 ** 0.5\n",
    "    std2 = var2 ** 0.5\n",
    "    products = [a * b for a, b in zip(X, Y)]\n",
    "    pearson = (sum(products)-len(X)*mean1*mean2)/((len(X)-1)*std1*std2)\n",
    "    \n",
    "    return pearson"
   ]
  },
  {
   "cell_type": "code",
   "execution_count": 171,
   "metadata": {},
   "outputs": [
    {
     "name": "stdout",
     "output_type": "stream",
     "text": [
      "Pearson correlation\n",
      "\tGroup1: -0.449627472545992,\n",
      "\tGroup2: 0.8938242533758364\n"
     ]
    }
   ],
   "source": [
    "# DO NOT EDIT THIS CELL\n",
    "peasron1 = get_pearson(list(group1['anti_a']),list(group1['anti_b']))\n",
    "peasron2 = get_pearson(list(group2['anti_a']),list(group2['anti_b']))\n",
    "\n",
    "print(f\"Pearson correlation\\n\\tGroup1: {peasron1},\\n\\tGroup2: {peasron2}\")"
   ]
  },
  {
   "cell_type": "markdown",
   "metadata": {},
   "source": [
    "#### Question 7: Analytical Thinking (15 Points)\n",
    "Based on the above analyses, conclude how to best use the two medicines to fight with T-Virus. Your answer is expected to analytical, not just numbers. You need to justify your answer."
   ]
  },
  {
   "cell_type": "markdown",
   "metadata": {},
   "source": [
    "Your answer: \n",
    "\n",
    "Based on the answer of Question 4, we can find that the mean and median values of group 1 is much less than group 2, so we can defined that group 1 includes the patients who has a little amount of t-virus in the their blood, and the group 2 is patients with high virus amount."
   ]
  },
  {
   "cell_type": "code",
   "execution_count": 172,
   "metadata": {},
   "outputs": [
    {
     "data": {
      "image/png": "[encoded data removed]",
      "text/plain": [
       "<Figure size 432x288 with 1 Axes>"
      ]
     },
     "metadata": {
      "needs_background": "light"
     },
     "output_type": "display_data"
    },
    {
     "data": {
      "image/png": "[encoded data removed]",
      "text/plain": [
       "<Figure size 432x288 with 1 Axes>"
      ]
     },
     "metadata": {
      "needs_background": "light"
     },
     "output_type": "display_data"
    }
   ],
   "source": [
    "import matplotlib.pyplot as plt\n",
    "%matplotlib inline\n",
    "\n",
    "plt.scatter(list(group1['anti_a']),list(group1['anti_b']))\n",
    "plt.xlabel('anti_a')\n",
    "plt.ylabel('anti_b')\n",
    "plt.title('group 1')\n",
    "plt.show()\n",
    "plt.xlabel('anti_a')\n",
    "plt.ylabel('anti_b')\n",
    "plt.title('group 2')\n",
    "plt.scatter(list(group2['anti_a']),list(group2['anti_b']))\n",
    "plt.show()"
   ]
  },
  {
   "cell_type": "markdown",
   "metadata": {},
   "source": [
    "Then, based on the Question 6, as shown in the above figure, in the group 2, anti_a and anti_b is strong positive correlated, it means that if we use the same level of amount of anti_a and anti_b, the effects of anti_a and anti_b may be mutually exclusive, leading to increased amount of T-virus. However, in the group 1, the correlation between anti_A and anti_B is negtive weak, and the amount of T-virus is very lower than group 2. \n",
    "\n",
    "What's more, as the following figure shows, the bigger the difference between using level of two medicines, the less amount of T-Virus. We can draw a conclusion that we can't use same level of anti_A and anti_B(both are normalized value), we can use higher amount of anti_A and lower amount of anti_B and vice versa to fight with T-Virus. For example, in the group 1, when the T-virus is the minimum value(6.0), we used lower anti_a(=0.266121) and the highest anti_b(=1.0), and when the T-virus is 6.7, we used higher anti_a(=0.984647) and lower anti_b(=0.157513). "
   ]
  },
  {
   "cell_type": "code",
   "execution_count": 173,
   "metadata": {},
   "outputs": [
    {
     "data": {
      "image/png": "[encoded data removed]",
      "text/plain": [
       "<Figure size 432x288 with 1 Axes>"
      ]
     },
     "metadata": {
      "needs_background": "light"
     },
     "output_type": "display_data"
    }
   ],
   "source": [
    "group1['difference'] = abs(group1['anti_a'] - group1['anti_b'])\n",
    "group2['difference'] = abs(group2['anti_a'] - group2['anti_b'])\n",
    "\n",
    "group=list(group1['difference'])+list(group2['difference'])\n",
    "t_virus = list(group1['t_virus'])+list(group2['t_virus'])\n",
    "\n",
    "plt.scatter(group,t_virus)\n",
    "plt.xlabel('Difference between using level of anti_a and anti_b')\n",
    "plt.ylabel('The amount of T-Virus')\n",
    "plt.title('Experiment result')\n",
    "plt.show()"
   ]
  }
 ],
 "metadata": {
  "kernelspec": {
   "display_name": "Python 3",
   "language": "python",
   "name": "python3"
  },
  "language_info": {
   "codemirror_mode": {
    "name": "ipython",
    "version": 3
   },
   "file_extension": ".py",
   "mimetype": "text/x-python",
   "name": "python",
   "nbconvert_exporter": "python",
   "pygments_lexer": "ipython3",
   "version": "3.7.9"
  }
 },
 "nbformat": 4,
 "nbformat_minor": 2
}
